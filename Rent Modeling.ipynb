{
 "cells": [
  {
   "cell_type": "markdown",
   "id": "547dcd52",
   "metadata": {},
   "source": [
    "## Rent Scrape Project\n",
    "\n",
    "This notebook works through training and testing a model to detect when an apartment is a good deal.\n",
    "\n",
    "To do this we train the model to predict the lowest price"
   ]
  },
  {
   "cell_type": "markdown",
   "id": "a82bb772",
   "metadata": {},
   "source": [
    "### Import"
   ]
  },
  {
   "cell_type": "code",
   "execution_count": 3,
   "id": "b71bf582",
   "metadata": {},
   "outputs": [
    {
     "name": "stdout",
     "output_type": "stream",
     "text": [
      "2.8.0\n"
     ]
    }
   ],
   "source": [
    "#Packages needed\n",
    "import pandas as pd\n",
    "import matplotlib.pyplot as plt\n",
    "import numpy as np\n",
    "import seaborn as sns\n",
    "\n",
    "import tensorflow as tf\n",
    "from tensorflow import keras\n",
    "from tensorflow.keras import layers\n",
    "\n",
    "#Read in our data\n",
    "model_data = pd.read_csv(r'C:\\Users\\jogoz\\Rent_Scrape_Final.csv')\n",
    "\n",
    "print(tf.__version__)"
   ]
  },
  {
   "cell_type": "markdown",
   "id": "8f5e9f0a",
   "metadata": {},
   "source": [
    "### Data Cleaning\n",
    "\n",
    "In this stage we clean our data up and get it into a form that can be modeled."
   ]
  },
  {
   "cell_type": "code",
   "execution_count": 4,
   "id": "b55e5014",
   "metadata": {},
   "outputs": [],
   "source": [
    "#Seperate or date variable so we can one hot encode easier\n",
    "model_data['Day_Recorded'] = pd.to_datetime(model_data['Day_Recorded'])\n",
    "model_data['Day_Recorded_Weekday'] = model_data['Day_Recorded'].dt.day_name()\n",
    "model_data['Day_Recorded_Month'] = model_data['Day_Recorded'].dt.month_name()\n",
    "\n",
    "#One hot encode\n",
    "dummy_vars = pd.get_dummies(model_data, columns=['City', 'Day_Recorded_Weekday', 'Day_Recorded_Month'])\n",
    "\n",
    "#Select rows that have the lowest price for that apartment ID\n",
    "lowest_price_df = dummy_vars.loc[dummy_vars.groupby(['unique_id'])['min_price'].idxmin()].reset_index(drop=True)\n",
    "\n",
    "#Drop columns that aren't needed\n",
    "data = lowest_price_df.drop(['Price', 'Move_in_date', 'Amenity','URL', 'building_id', 'unit_id',\n",
    "       'Special_offer', 'Day_Recorded','unique_id',\n",
    "       'month_discount', 'move_in_discount', 'Total_Cost', 'min_price', 'min_price_delta', 'Apartment Name',\n",
    "       'Address', 'Floor', 'City_Washington DC', 'Day_Recorded_Weekday_Friday',\n",
    "       'Day_Recorded_Month_December'], axis=1)"
   ]
  },
  {
   "cell_type": "markdown",
   "id": "2bfb4281",
   "metadata": {},
   "source": [
    "## Data Preparation\n",
    "\n",
    "Train test split and normalization"
   ]
  },
  {
   "cell_type": "code",
   "execution_count": 6,
   "id": "afd06b30",
   "metadata": {},
   "outputs": [
    {
     "name": "stdout",
     "output_type": "stream",
     "text": [
      "[[1.2839087e+01 1.2351195e+00 1.3384188e+00 8.2311859e+02 6.6506915e-02\n",
      "  2.3729563e+01 4.3191779e-02 1.3400512e-02 6.9771311e-03 1.5897889e-01\n",
      "  1.4851333e-01 4.9393669e-02 3.6491513e-02 1.8683201e-01 1.9070810e-01\n",
      "  1.5393993e-02 9.1422625e-02 1.2907706e-01 5.5429455e-02 2.1025532e-01\n",
      "  2.2088723e-01 2.7011463e-01 4.2471889e-01 1.0576440e-02]]\n"
     ]
    }
   ],
   "source": [
    "train_dataset = data.sample(frac=0.8, random_state=0)\n",
    "test_dataset = data.drop(train_dataset.index)\n",
    "\n",
    "train_features = train_dataset.copy()\n",
    "test_features = test_dataset.copy()\n",
    "\n",
    "train_labels = train_features.pop('true_monthly_cost')\n",
    "test_labels = test_features.pop('true_monthly_cost')\n",
    "\n",
    "\n",
    "normalizer = tf.keras.layers.Normalization(axis=-1)\n",
    "normalizer.adapt(np.array(train_features))\n",
    "\n",
    "print(normalizer.mean.numpy())"
   ]
  },
  {
   "cell_type": "markdown",
   "id": "ad5f1f1a",
   "metadata": {},
   "source": [
    "### Model Building"
   ]
  },
  {
   "cell_type": "code",
   "execution_count": 15,
   "id": "c80e155e",
   "metadata": {},
   "outputs": [],
   "source": [
    "def build_and_compile_model(norm):\n",
    "  model = keras.Sequential([\n",
    "      norm,\n",
    "      layers.Dense(64, activation='relu'),\n",
    "      layers.Dense(64, activation='relu'),\n",
    "      layers.Dense(1)\n",
    "  ])\n",
    "\n",
    "  model.compile(loss='mean_absolute_error',\n",
    "                optimizer=tf.keras.optimizers.Adam(0.001))\n",
    "  return model\n",
    "\n",
    "def plot_loss(history):\n",
    "  plt.plot(history.history['loss'], label='loss')\n",
    "  plt.plot(history.history['val_loss'], label='val_loss')\n",
    "  plt.ylim([0, 10])\n",
    "  plt.xlabel('Epoch')\n",
    "  plt.ylabel('Error [MPG]')\n",
    "  plt.legend()\n",
    "  plt.grid(True)\n"
   ]
  },
  {
   "cell_type": "code",
   "execution_count": 18,
   "id": "acb3575c",
   "metadata": {},
   "outputs": [
    {
     "name": "stdout",
     "output_type": "stream",
     "text": [
      "Model: \"sequential_3\"\n",
      "_________________________________________________________________\n",
      " Layer (type)                Output Shape              Param #   \n",
      "=================================================================\n",
      " normalization_1 (Normalizat  (None, 24)               49        \n",
      " ion)                                                            \n",
      "                                                                 \n",
      " dense_9 (Dense)             (None, 64)                1600      \n",
      "                                                                 \n",
      " dense_10 (Dense)            (None, 64)                4160      \n",
      "                                                                 \n",
      " dense_11 (Dense)            (None, 1)                 65        \n",
      "                                                                 \n",
      "=================================================================\n",
      "Total params: 5,874\n",
      "Trainable params: 5,825\n",
      "Non-trainable params: 49\n",
      "_________________________________________________________________\n"
     ]
    }
   ],
   "source": [
    "dnn_model = build_and_compile_model(normalizer)\n",
    "dnn_model.summary()\n",
    "\n",
    "\n",
    "history = dnn_model.fit(\n",
    "    train_features,\n",
    "    train_labels,\n",
    "    validation_split=0.2,\n",
    "    verbose=0, epochs=100)\n"
   ]
  },
  {
   "cell_type": "code",
   "execution_count": 19,
   "id": "57392256",
   "metadata": {},
   "outputs": [
    {
     "data": {
      "image/png": "[encoded data removed]",
      "text/plain": [
       "<Figure size 432x288 with 1 Axes>"
      ]
     },
     "metadata": {
      "needs_background": "light"
     },
     "output_type": "display_data"
    }
   ],
   "source": [
    "plot_loss(history)\n",
    "test_results = {}\n",
    "test_results['dnn_model'] = dnn_model.evaluate(test_features, test_labels, verbose=0)\n"
   ]
  },
  {
   "cell_type": "code",
   "execution_count": 21,
   "id": "22fdccbb",
   "metadata": {},
   "outputs": [
    {
     "data": {
      "text/html": [
       "<div>\n",
       "<style scoped>\n",
       "    .dataframe tbody tr th:only-of-type {\n",
       "        vertical-align: middle;\n",
       "    }\n",
       "\n",
       "    .dataframe tbody tr th {\n",
       "        vertical-align: top;\n",
       "    }\n",
       "\n",
       "    .dataframe thead th {\n",
       "        text-align: right;\n",
       "    }\n",
       "</style>\n",
       "<table border=\"1\" class=\"dataframe\">\n",
       "  <thead>\n",
       "    <tr style=\"text-align: right;\">\n",
       "      <th></th>\n",
       "      <th>Mean absolute error [True Monthly Cost]</th>\n",
       "    </tr>\n",
       "  </thead>\n",
       "  <tbody>\n",
       "    <tr>\n",
       "      <th>dnn_model</th>\n",
       "      <td>358.312531</td>\n",
       "    </tr>\n",
       "  </tbody>\n",
       "</table>\n",
       "</div>"
      ],
      "text/plain": [
       "           Mean absolute error [True Monthly Cost]\n",
       "dnn_model                               358.312531"
      ]
     },
     "execution_count": 21,
     "metadata": {},
     "output_type": "execute_result"
    }
   ],
   "source": [
    "pd.DataFrame(test_results, index=['Mean absolute error [True Monthly Cost]']).T\n"
   ]
  },
  {
   "cell_type": "code",
   "execution_count": 28,
   "id": "0b3c61a5",
   "metadata": {},
   "outputs": [
    {
     "data": {
      "image/png": "[encoded data removed]",
      "text/plain": [
       "<Figure size 432x288 with 1 Axes>"
      ]
     },
     "metadata": {
      "needs_background": "light"
     },
     "output_type": "display_data"
    }
   ],
   "source": [
    "test_predictions = dnn_model.predict(test_features).flatten()\n",
    "\n",
    "a = plt.axes(aspect='equal')\n",
    "#plt.scatter(test_labels, test_predictions)\n",
    "\n",
    "\n",
    "plt.plot(test_labels, test_predictions, 'o', color='black',  markersize=.3)\n",
    "plt.xlabel('True Values [Rent]')\n",
    "plt.ylabel('Predictions [Rent]')\n",
    "lims = [0, 13000]\n",
    "plt.xlim(lims)\n",
    "plt.ylim(lims)\n",
    "_ = plt.plot(lims, lims)"
   ]
  }
 ],
 "metadata": {
  "kernelspec": {
   "display_name": "Python 3",
   "language": "python",
   "name": "python3"
  },
  "language_info": {
   "codemirror_mode": {
    "name": "ipython",
    "version": 3
   },
   "file_extension": ".py",
   "mimetype": "text/x-python",
   "name": "python",
   "nbconvert_exporter": "python",
   "pygments_lexer": "ipython3",
   "version": "3.8.8"
  }
 },
 "nbformat": 4,
 "nbformat_minor": 5
}
